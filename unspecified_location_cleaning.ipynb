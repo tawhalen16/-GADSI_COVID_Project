{
 "cells": [
  {
   "cell_type": "markdown",
   "metadata": {},
   "source": [
    "### Imports"
   ]
  },
  {
   "cell_type": "code",
   "execution_count": 10,
   "metadata": {},
   "outputs": [],
   "source": [
    "import pandas as pd\n",
    "import numpy as np\n",
    "\n",
    "pd.options.display.max_rows = 1000"
   ]
  },
  {
   "cell_type": "markdown",
   "metadata": {},
   "source": [
    "### Read Data"
   ]
  },
  {
   "cell_type": "code",
   "execution_count": 2,
   "metadata": {},
   "outputs": [],
   "source": [
    "df_us = pd.read_csv('./Data/combined_us.csv')"
   ]
  },
  {
   "cell_type": "markdown",
   "metadata": {},
   "source": [
    "### Automated State Inferences"
   ]
  },
  {
   "cell_type": "code",
   "execution_count": 5,
   "metadata": {},
   "outputs": [],
   "source": [
    "# Create a dataframe of most common state code for each city name\n",
    "# Aggregation method from:\n",
    "# https://stackoverflow.com/questions/15222754/groupby-pandas-dataframe-and-select-most-common-value\n",
    "df_inf_state = df_us.groupby('city')['state'].agg(lambda x: x.value_counts().index[0])"
   ]
  },
  {
   "cell_type": "code",
   "execution_count": 6,
   "metadata": {},
   "outputs": [],
   "source": [
    "# Define function assigning most common states above to unspecified states in dataframe\n",
    "def infer_state(row):\n",
    "    if row['state'] != 'unspecified':\n",
    "        return row['state']\n",
    "    else:\n",
    "        return df_inf_state[row['city']]"
   ]
  },
  {
   "cell_type": "code",
   "execution_count": 7,
   "metadata": {
    "scrolled": true
   },
   "outputs": [],
   "source": [
    "# Apply inferences to dataframe\n",
    "df_us['state'] = df_us.apply(infer_state, axis = 1)"
   ]
  },
  {
   "cell_type": "markdown",
   "metadata": {},
   "source": [
    "### Manual Inferences"
   ]
  },
  {
   "cell_type": "code",
   "execution_count": 8,
   "metadata": {},
   "outputs": [],
   "source": [
    "# Create masks to limit data to records with unspecified cities but assigned states, excluding state-level locations\n",
    "mask_city = (df_us['city'] == 'unspecified')\n",
    "mask_state = (df_us['state'] != 'unspecified')\n",
    "mask_type = (df_us['place_type'] != 'admin')\n",
    "\n",
    "# Determine columns for assessment\n",
    "list_cols = ['place_type','place_full_name','city','state']\n",
    "\n",
    "# Create dataframe of all unique values\n",
    "df_man = df_us.loc[mask_city & mask_state & mask_type,list_cols].drop_duplicates().reset_index(drop = True)"
   ]
  },
  {
   "cell_type": "code",
   "execution_count": 12,
   "metadata": {},
   "outputs": [],
   "source": [
    "# Read in the current manual adjustment CSV. If none exists, skip this step\n",
    "try:\n",
    "    df_man_old = pd.read_csv('./Data/manual_inferences.csv', index_col = 0)\n",
    "    \n",
    "    # Add the above dataframe and drop newer records without an inferred city\n",
    "    df_man = df_man_old.append(df_man).drop_duplicates(subset = ['place_full_name'], keep = 'first').reset_index(drop = True)\n",
    "    \n",
    "except:\n",
    "    # Create column to track corrected records\n",
    "    df_man['corrected'] = 0\n",
    "    print('No existing manual inferences file.')"
   ]
  },
  {
   "cell_type": "code",
   "execution_count": 13,
   "metadata": {},
   "outputs": [],
   "source": [
    "def input_inference(row):\n",
    "    if row['corrected'] == 1:\n",
    "        return row['city']\n",
    "    else:\n",
    "        place = row['place_full_name']\n",
    "        return input(f'Set {place} \"city\" as :')"
   ]
  },
  {
   "cell_type": "code",
   "execution_count": 14,
   "metadata": {
    "scrolled": true
   },
   "outputs": [],
   "source": [
    "# Run through all undesignated cities within the combined dataframe\n",
    "df_man['city'] = df_man.apply(input_inference, axis = 1)"
   ]
  },
  {
   "cell_type": "code",
   "execution_count": 15,
   "metadata": {},
   "outputs": [],
   "source": [
    "# Correct Washington, DC, neighborhoods to DC state code\n",
    "df_man['state'] = df_man.apply(lambda row: 'DC' if (row['state'] == 'WA') & (row['city'] == 'Washington')\n",
    "                                                else row['state']\n",
    "                               , axis = 1)"
   ]
  },
  {
   "cell_type": "code",
   "execution_count": 16,
   "metadata": {},
   "outputs": [],
   "source": [
    "# Update all records to indicate they have been corrected\n",
    "df_man['corrected'] = 1\n",
    "\n",
    "# Write dataframe of corrections to data folder\n",
    "df_man.to_csv('./Data/manual_inferences.csv')"
   ]
  },
  {
   "cell_type": "code",
   "execution_count": 17,
   "metadata": {},
   "outputs": [],
   "source": [
    "# Define function to update dataframe if the full place name is in the manual inference table\n",
    "def update_manuals(row):\n",
    "    if row['place_full_name'] in df_man['place_full_name']:\n",
    "        row['state'] = df_man.loc[df_man['place_full_name'] == row['place_full_name'], 'state']\n",
    "        row['city'] = df_man.loc[df_man['place_full_name'] == row['place_full_name'], 'city']\n",
    "        return row\n",
    "    else:\n",
    "        return row"
   ]
  },
  {
   "cell_type": "code",
   "execution_count": 18,
   "metadata": {
    "scrolled": true
   },
   "outputs": [],
   "source": [
    "# Update US dataframe with manual inferences\n",
    "df_us = df_us.apply(update_manuals, axis = 1)"
   ]
  },
  {
   "cell_type": "markdown",
   "metadata": {},
   "source": [
    "### Final Cleaning"
   ]
  },
  {
   "cell_type": "code",
   "execution_count": 24,
   "metadata": {},
   "outputs": [],
   "source": [
    "# Drop all remaining data with unspecified state names\n",
    "df_us = df_us[df_us['state'] != 'unspecified']"
   ]
  },
  {
   "cell_type": "markdown",
   "metadata": {},
   "source": [
    "### Output Updated US Data"
   ]
  },
  {
   "cell_type": "code",
   "execution_count": 25,
   "metadata": {},
   "outputs": [],
   "source": [
    "# Update combined US data file\n",
    "df_us.to_csv('./Data/combined_us.csv', index = False)"
   ]
  }
 ],
 "metadata": {
  "kernelspec": {
   "display_name": "Python 3",
   "language": "python",
   "name": "python3"
  },
  "language_info": {
   "codemirror_mode": {
    "name": "ipython",
    "version": 3
   },
   "file_extension": ".py",
   "mimetype": "text/x-python",
   "name": "python",
   "nbconvert_exporter": "python",
   "pygments_lexer": "ipython3",
   "version": "3.7.6"
  }
 },
 "nbformat": 4,
 "nbformat_minor": 4
}
