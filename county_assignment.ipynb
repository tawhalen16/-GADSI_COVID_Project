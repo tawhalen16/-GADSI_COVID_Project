{
 "cells": [
  {
   "cell_type": "markdown",
   "metadata": {},
   "source": [
    "### Imports"
   ]
  },
  {
   "cell_type": "code",
   "execution_count": 1,
   "metadata": {},
   "outputs": [],
   "source": [
    "import pandas as pd\n",
    "import numpy as np"
   ]
  },
  {
   "cell_type": "markdown",
   "metadata": {},
   "source": [
    "### Read Data"
   ]
  },
  {
   "cell_type": "code",
   "execution_count": 61,
   "metadata": {},
   "outputs": [],
   "source": [
    "df_sent = pd.read_csv('./data/all_sentiment.csv')\n",
    "df_cities = pd.read_csv('./data/us_cities_states_counties.csv', sep = '|')"
   ]
  },
  {
   "cell_type": "markdown",
   "metadata": {},
   "source": [
    "### Condense Locations Data to State-County-City"
   ]
  },
  {
   "cell_type": "code",
   "execution_count": 62,
   "metadata": {},
   "outputs": [],
   "source": [
    "# Limit columns to city, state, and county, then drop duplicate rows\n",
    "list_group = ['City','State short','County']\n",
    "df_cities = df_cities[list_group].drop_duplicates().reset_index(drop = True)\n",
    "\n",
    "# Drop all instances of a city with multiple counties after the first record\n",
    "list_dup = df_cities[df_cities[['City','State short']].duplicated(keep = 'first')].index\n",
    "df_cities = df_cities.drop(index = list_dup)"
   ]
  },
  {
   "cell_type": "markdown",
   "metadata": {},
   "source": [
    "### Join Tables"
   ]
  },
  {
   "cell_type": "code",
   "execution_count": 67,
   "metadata": {},
   "outputs": [],
   "source": [
    "# Join on city and state only\n",
    "# df_sent = df_sent.merge(df_cities, how = 'left', left_on = ['city','state'], right_on = ['City','State short'])\n",
    "\n",
    "# Drop duplicate city and state columns and rename county in lowercase to match formatting\n",
    "df_sent = df_sent.drop(columns = ['City','State short'])\n",
    "df_sent.rename(columns = {'County':'county'}, inplace = True)\n",
    "\n",
    "# Infill all null counties as unspecified\n",
    "df_sent['county'] = df_sent['county'].fillna('unspecified')"
   ]
  },
  {
   "cell_type": "markdown",
   "metadata": {},
   "source": [
    "### Output Table"
   ]
  },
  {
   "cell_type": "code",
   "execution_count": 71,
   "metadata": {},
   "outputs": [],
   "source": [
    "df_sent.to_csv('./Data/all_sentiment.csv', index = False)"
   ]
  }
 ],
 "metadata": {
  "kernelspec": {
   "display_name": "Python 3",
   "language": "python",
   "name": "python3"
  },
  "language_info": {
   "codemirror_mode": {
    "name": "ipython",
    "version": 3
   },
   "file_extension": ".py",
   "mimetype": "text/x-python",
   "name": "python",
   "nbconvert_exporter": "python",
   "pygments_lexer": "ipython3",
   "version": "3.7.6"
  }
 },
 "nbformat": 4,
 "nbformat_minor": 4
}
