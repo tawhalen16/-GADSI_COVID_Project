{
 "cells": [
  {
   "cell_type": "markdown",
   "metadata": {},
   "source": [
    "### Imports"
   ]
  },
  {
   "cell_type": "code",
   "execution_count": 1,
   "metadata": {},
   "outputs": [],
   "source": [
    "import pandas as pd\n",
    "import numpy as np\n",
    "import os"
   ]
  },
  {
   "cell_type": "markdown",
   "metadata": {},
   "source": [
    "### List Files to Import"
   ]
  },
  {
   "cell_type": "code",
   "execution_count": 26,
   "metadata": {},
   "outputs": [],
   "source": [
    "# Import current list of files and their cleaning status\n",
    "df_scraped_data = pd.read_csv('./Data/tweet_ids/scraped_files.csv')"
   ]
  },
  {
   "cell_type": "code",
   "execution_count": 27,
   "metadata": {},
   "outputs": [],
   "source": [
    "# Import names of all files currently in /Data/tweet_ids directory, then remove the scraped_files.csv and desktop.ini\n",
    "data_files = os.listdir('./Data/tweet_ids')\n",
    "data_files.remove('scraped_files.csv')\n",
    "data_files.remove('desktop.ini')\n",
    "\n",
    "# Filter list of files to new files only\n",
    "new_files = list(filter(lambda file: file not in df_scraped_data['file'].values , data_files))"
   ]
  },
  {
   "cell_type": "code",
   "execution_count": 28,
   "metadata": {
    "scrolled": true
   },
   "outputs": [],
   "source": [
    "# Create dataframe of new files. Set added status as 0\n",
    "df_new_files = pd.DataFrame([new_files,[0]*len(new_files), [0]*len(new_files)], index = ['file','stripped','combined']).T\n",
    "\n",
    "# Append new files dataframe to existing dataframe\n",
    "df_scraped_data = df_scraped_data.append(df_new_files).reset_index(drop = True)"
   ]
  },
  {
   "cell_type": "markdown",
   "metadata": {},
   "source": [
    "### Prepare Tweet ID Files for Hydration"
   ]
  },
  {
   "cell_type": "code",
   "execution_count": 30,
   "metadata": {},
   "outputs": [],
   "source": [
    "# Loop through all files that have not yet been stripped of sentiment scores\n",
    "for file in df_scraped_data.loc[df_scraped_data['stripped'] == 0, 'file']:\n",
    "    # Read the file, keep the first column\n",
    "    df_file = pd.read_csv(f'./Data/tweet_ids/{file}', header=None)\n",
    "    df_file = df_file[0]\n",
    "    \n",
    "    # Write the file back over the original\n",
    "    df_file.to_csv(f'./Data/tweet_ids/{file}', index=False, header=None)\n",
    "    \n",
    "    # Update to reflect data has been stripped\n",
    "    df_scraped_data.loc[df_scraped_data['file'] == file, 'stripped'] == 1"
   ]
  },
  {
   "cell_type": "markdown",
   "metadata": {},
   "source": [
    "### Combine CSVs for Hydration"
   ]
  },
  {
   "cell_type": "code",
   "execution_count": 38,
   "metadata": {},
   "outputs": [],
   "source": [
    "# Loop through all files that have not yet been stripped of sentiment scores\n",
    "for month in ['march','april','may','june','july','august']:\n",
    "    # Get all files beginning with a certain month\n",
    "    month_files = df_scraped_data.loc[df_scraped_data['file'].str.startswith(month),'file']\n",
    "    \n",
    "    # Combine all of the files for that month into a single dataframe\n",
    "    df_combined = pd.concat([pd.read_csv(f'./Data/tweet_ids/{file}', header=None) for file in month_files])\n",
    "    \n",
    "    # Write the file back over the original\n",
    "    df_combined.to_csv(f'./Data/tweet_ids/tweet_ids_{month}.csv', index=False, header=None)\n",
    "    \n",
    "    # Set combined column to 1 for all files in given month\n",
    "    df_scraped_data.loc[df_scraped_data['file'].str.startswith(month),'combined'] = 1"
   ]
  },
  {
   "cell_type": "markdown",
   "metadata": {},
   "source": [
    "### Output File"
   ]
  },
  {
   "cell_type": "code",
   "execution_count": 46,
   "metadata": {},
   "outputs": [],
   "source": [
    "# Update reference file for scraped data\n",
    "df_scraped_data.to_csv('./Data/tweet_ids/scraped_files.csv', index = False)"
   ]
  }
 ],
 "metadata": {
  "kernelspec": {
   "display_name": "Python 3",
   "language": "python",
   "name": "python3"
  },
  "language_info": {
   "codemirror_mode": {
    "name": "ipython",
    "version": 3
   },
   "file_extension": ".py",
   "mimetype": "text/x-python",
   "name": "python",
   "nbconvert_exporter": "python",
   "pygments_lexer": "ipython3",
   "version": "3.7.6"
  }
 },
 "nbformat": 4,
 "nbformat_minor": 4
}
