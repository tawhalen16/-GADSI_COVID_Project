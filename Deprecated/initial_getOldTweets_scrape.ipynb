{
 "cells": [
  {
   "cell_type": "markdown",
   "metadata": {},
   "source": [
    "### Imports"
   ]
  },
  {
   "cell_type": "code",
   "execution_count": 1,
   "metadata": {},
   "outputs": [],
   "source": [
    "import pandas as pd\n",
    "import numpy as np\n",
    "import GetOldTweets3 as got"
   ]
  },
  {
   "cell_type": "code",
   "execution_count": 19,
   "metadata": {},
   "outputs": [
    {
     "name": "stdout",
     "output_type": "stream",
     "text": [
      "Boa Noite? Querendo informar , que o Covid-19 está mais forte, que muitos não imaginam! Fique em casa! Façam higienização de tudo! Sacolas e etc. Principalmente Verduras, Frutas e Legumes. (Coloquem 1 colher de cloro na bacia de água). Deus, em breve cessará essa pandemia. Creio.\n",
      "Dudu_Fera2011\n",
      "2020-06-11 23:59:59+00:00\n"
     ]
    }
   ],
   "source": [
    "tweetCriteria = got.manager.TweetCriteria().setQuerySearch('COVID')\\\n",
    "                                           .setSince(\"2020-1-01\")\\\n",
    "                                           .setUntil(\"2020-6-12\")\\\n",
    "                                           .setMaxTweets(10)\n",
    "tweet = got.manager.TweetManager.getTweets(tweetCriteria)[0]\n",
    "print(tweet.text)\n",
    "print(tweet.username)\n",
    "print(tweet.date)"
   ]
  },
  {
   "cell_type": "code",
   "execution_count": null,
   "metadata": {},
   "outputs": [],
   "source": [
    "got.manager.TweetCriteria()"
   ]
  },
  {
   "cell_type": "code",
   "execution_count": 24,
   "metadata": {},
   "outputs": [],
   "source": [
    "tweetCriteria = got.manager.TweetCriteria().setQuerySearch('COVID')\\\n",
    "                                           .setSince(\"2020-1-01\")\\\n",
    "                                           .setUntil(\"2020-6-12\")\\\n",
    "                                           .setMaxTweets(10)\n",
    "\n",
    "tweets = got.manager.TweetManager.getTweets(tweetCriteria)\n",
    "\n",
    "tweet_ids = []\n",
    "\n",
    "for i in range(10):\n",
    "    tweet = tweets[i]\n",
    "    tweet_ids.append(tweet.id)"
   ]
  },
  {
   "cell_type": "code",
   "execution_count": 25,
   "metadata": {},
   "outputs": [
    {
     "data": {
      "text/plain": [
       "['1271230733550526465',\n",
       " '1271230733504282624',\n",
       " '1271230733168803843',\n",
       " '1271230732745297920',\n",
       " '1271230730803335169',\n",
       " '1271230729851199488',\n",
       " '1271230726135001088',\n",
       " '1271230725497315328',\n",
       " '1271230724159549440',\n",
       " '1271230723446497281']"
      ]
     },
     "execution_count": 25,
     "metadata": {},
     "output_type": "execute_result"
    }
   ],
   "source": [
    "tweet_ids"
   ]
  },
  {
   "cell_type": "code",
   "execution_count": 18,
   "metadata": {},
   "outputs": [
    {
     "name": "stdout",
     "output_type": "stream",
     "text": [
      "1271230733550526465\n",
      "https://twitter.com/Dudu_Fera2011/status/1271230733550526465\n",
      "Dudu_Fera2011\n",
      "None\n",
      "Boa Noite? Querendo informar , que o Covid-19 está mais forte, que muitos não imaginam! Fique em casa! Façam higienização de tudo! Sacolas e etc. Principalmente Verduras, Frutas e Legumes. (Coloquem 1 colher de cloro na bacia de água). Deus, em breve cessará essa pandemia. Creio.\n",
      "2020-06-11 23:59:59+00:00\n",
      "0\n",
      "4\n",
      "\n",
      "\n",
      "\n",
      "end\n"
     ]
    }
   ],
   "source": [
    "print(tweet.id)\n",
    "print(tweet.permalink)\n",
    "print(tweet.username)\n",
    "print(tweet.to)\n",
    "print(tweet.text)\n",
    "print(tweet.date )\n",
    "print(tweet.retweets)\n",
    "print(tweet.favorites)\n",
    "print(tweet.mentions)\n",
    "print(tweet.hashtags)\n",
    "print(tweet.geo)\n",
    "print('end')"
   ]
  },
  {
   "cell_type": "code",
   "execution_count": null,
   "metadata": {},
   "outputs": [],
   "source": []
  },
  {
   "cell_type": "markdown",
   "metadata": {},
   "source": [
    "Tweet: Model class that describes a specific tweet.\n",
    "\n",
    "id (str)\n",
    "permalink (str)\n",
    "username (str)\n",
    "to (str)\n",
    "text (str)\n",
    "date (datetime) in UTC\n",
    "retweets (int)\n",
    "favorites (int)\n",
    "mentions (str)\n",
    "hashtags (str)\n",
    "geo (str)\n",
    "TweetManager: A manager class to help getting tweets in Tweet's model.\n",
    "\n",
    "getTweets (TwitterCriteria): Return the list of tweets retrieved by using an instance of TwitterCriteria.\n",
    "TwitterCriteria: A collection of search parameters to be used together with TweetManager.\n",
    "\n",
    "setUsername (str or iterable): An optional specific username(s) from a twitter account (with or without \"@\").\n",
    "setSince (str. \"yyyy-mm-dd\"): A lower bound date (UTC) to restrict search.\n",
    "setUntil (str. \"yyyy-mm-dd\"): An upper bound date (not included) to restrict search.\n",
    "setQuerySearch (str): A query text to be matched.\n",
    "setTopTweets (bool): If True only the Top Tweets will be retrieved.\n",
    "setNear(str): A reference location area from where tweets were generated.\n",
    "setWithin (str): A distance radius from \"near\" location (e.g. 15mi).\n",
    "setMaxTweets (int): The maximum number of tweets to be retrieved. If this number is unsetted or lower than 1 all possible tweets will be retrieved."
   ]
  }
 ],
 "metadata": {
  "kernelspec": {
   "display_name": "Python 3",
   "language": "python",
   "name": "python3"
  },
  "language_info": {
   "codemirror_mode": {
    "name": "ipython",
    "version": 3
   },
   "file_extension": ".py",
   "mimetype": "text/x-python",
   "name": "python",
   "nbconvert_exporter": "python",
   "pygments_lexer": "ipython3",
   "version": "3.7.6"
  }
 },
 "nbformat": 4,
 "nbformat_minor": 4
}
