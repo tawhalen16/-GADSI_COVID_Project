{
 "cells": [
  {
   "cell_type": "markdown",
   "metadata": {},
   "source": [
    "## IEEE Data\n",
    "This dataset (provided courtesy of [Avishek Garain](https://ieee-dataport.org/open-access/english-language-tweets-dataset-covid-19#files)) includes tweets on from COVID from lat May. The size of the dataset and the specific data included make it impractical for inclusion in this project."
   ]
  },
  {
   "cell_type": "code",
   "execution_count": 13,
   "metadata": {},
   "outputs": [],
   "source": [
    "import pandas as pd\n",
    "pd.options.display.max_columns = 200\n",
    "\n",
    "df_tweets = pd.read_json('./Data/corona.json', lines = True)"
   ]
  },
  {
   "cell_type": "code",
   "execution_count": 27,
   "metadata": {
    "scrolled": true
   },
   "outputs": [
    {
     "data": {
      "text/plain": [
       "226667   2020-05-25 18:26:36\n",
       "226662   2020-05-25 18:26:36\n",
       "226663   2020-05-25 18:26:36\n",
       "226666   2020-05-25 18:26:36\n",
       "226665   2020-05-25 18:26:36\n",
       "                 ...        \n",
       "16       2020-05-26 04:15:03\n",
       "9        2020-05-26 04:15:03\n",
       "2        2020-05-26 04:15:04\n",
       "1        2020-05-26 04:15:04\n",
       "0        2020-05-26 04:15:04\n",
       "Name: created_at, Length: 226668, dtype: datetime64[ns]"
      ]
     },
     "execution_count": 27,
     "metadata": {},
     "output_type": "execute_result"
    }
   ],
   "source": [
    "df_tweets['created_at'].sort_values()"
   ]
  },
  {
   "cell_type": "code",
   "execution_count": 28,
   "metadata": {
    "scrolled": true
   },
   "outputs": [
    {
     "data": {
      "text/plain": [
       "113333   2020-05-25\n",
       "151106   2020-05-25\n",
       "151107   2020-05-25\n",
       "151108   2020-05-25\n",
       "151109   2020-05-25\n",
       "            ...    \n",
       "52991    2020-05-26\n",
       "52992    2020-05-26\n",
       "52993    2020-05-26\n",
       "52986    2020-05-26\n",
       "0        2020-05-26\n",
       "Name: date, Length: 226668, dtype: datetime64[ns]"
      ]
     },
     "execution_count": 28,
     "metadata": {},
     "output_type": "execute_result"
    }
   ],
   "source": [
    "df_tweets['date'].sort_values()"
   ]
  },
  {
   "cell_type": "code",
   "execution_count": 29,
   "metadata": {},
   "outputs": [
    {
     "data": {
      "text/plain": [
       "(226668, 34)"
      ]
     },
     "execution_count": 29,
     "metadata": {},
     "output_type": "execute_result"
    }
   ],
   "source": [
    "df_tweets.shape"
   ]
  }
 ],
 "metadata": {
  "kernelspec": {
   "display_name": "Python 3",
   "language": "python",
   "name": "python3"
  },
  "language_info": {
   "codemirror_mode": {
    "name": "ipython",
    "version": 3
   },
   "file_extension": ".py",
   "mimetype": "text/x-python",
   "name": "python",
   "nbconvert_exporter": "python",
   "pygments_lexer": "ipython3",
   "version": "3.7.6"
  }
 },
 "nbformat": 4,
 "nbformat_minor": 4
}
